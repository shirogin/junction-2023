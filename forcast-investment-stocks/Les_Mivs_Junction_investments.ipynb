{
  "nbformat": 4,
  "nbformat_minor": 0,
  "metadata": {
    "colab": {
      "provenance": []
    },
    "kernelspec": {
      "name": "python3",
      "display_name": "Python 3"
    },
    "language_info": {
      "name": "python"
    }
  },
  "cells": [
    {
      "cell_type": "markdown",
      "source": [
        "Dataset: dataset: https://finance.yahoo.com/quote/GE/history/"
      ],
      "metadata": {
        "id": "cxPKs-wOQZos"
      }
    },
    {
      "cell_type": "markdown",
      "source": [],
      "metadata": {
        "id": "P2ga-T8WQVTz"
      }
    },
    {
      "cell_type": "code",
      "execution_count": 2,
      "metadata": {
        "id": "G-fem-PhISsI"
      },
      "outputs": [],
      "source": [
        "import numpy as np\n",
        "from tensorflow.keras.models import Sequential\n",
        "from tensorflow.keras.layers import LSTM\n",
        "from tensorflow.keras.layers import Dense, Dropout\n",
        "import pandas as pd\n",
        "from matplotlib import pyplot as plt\n",
        "from sklearn.preprocessing import StandardScaler\n",
        "import seaborn as sns"
      ]
    },
    {
      "cell_type": "code",
      "source": [
        "#Read the csv file\n",
        "df = pd.read_csv('GE.csv')\n",
        "print(df.head()) #7 columns, including the Date."
      ],
      "metadata": {
        "colab": {
          "base_uri": "https://localhost:8080/"
        },
        "id": "eAsn6QbYIsgk",
        "outputId": "00ea5208-499f-4a10-8952-586598c2eaa2"
      },
      "execution_count": 50,
      "outputs": [
        {
          "output_type": "stream",
          "name": "stdout",
          "text": [
            "         Date       Open       High        Low      Close  Adj Close    Volume\n",
            "0  2022-10-07  51.217800  51.350506  50.039032  50.398125  50.229530   5471920\n",
            "1  2022-10-10  50.780640  51.225605  50.007805  50.725994  50.556301   4600327\n",
            "2  2022-10-11  50.343483  50.944576  49.242779  49.960968  49.793835   6784048\n",
            "3  2022-10-12  49.718971  51.069477  49.227165  50.538643  50.369583   6862189\n",
            "4  2022-10-13  49.718971  53.364559  49.328648  53.036690  52.859272  10230578\n"
          ]
        }
      ]
    },
    {
      "cell_type": "code",
      "source": [
        "#Separate dates for future plotting\n",
        "train_dates = pd.to_datetime(df['Date'])\n",
        "print(train_dates.tail(15)) #Check last few dates.\n"
      ],
      "metadata": {
        "colab": {
          "base_uri": "https://localhost:8080/"
        },
        "id": "kr3GMwXSIwUr",
        "outputId": "43692675-789a-4c8c-a2ed-4b32a62486ca"
      },
      "execution_count": 51,
      "outputs": [
        {
          "output_type": "stream",
          "name": "stdout",
          "text": [
            "236   2023-09-18\n",
            "237   2023-09-19\n",
            "238   2023-09-20\n",
            "239   2023-09-21\n",
            "240   2023-09-22\n",
            "241   2023-09-25\n",
            "242   2023-09-26\n",
            "243   2023-09-27\n",
            "244   2023-09-28\n",
            "245   2023-09-29\n",
            "246   2023-10-02\n",
            "247   2023-10-03\n",
            "248   2023-10-04\n",
            "249   2023-10-05\n",
            "250   2023-10-06\n",
            "Name: Date, dtype: datetime64[ns]\n"
          ]
        }
      ]
    },
    {
      "cell_type": "code",
      "source": [
        "\n",
        "#Variables for training\n",
        "cols = list(df)[1:6]\n",
        "#Date and volume columns are not used in training.\n",
        "print(cols) #['Open', 'High', 'Low', 'Close', 'Adj Close']"
      ],
      "metadata": {
        "colab": {
          "base_uri": "https://localhost:8080/"
        },
        "id": "Rb1a7PxCJGwO",
        "outputId": "68c791ce-dd07-44bf-c435-e1741862e1cb"
      },
      "execution_count": 52,
      "outputs": [
        {
          "output_type": "stream",
          "name": "stdout",
          "text": [
            "['Open', 'High', 'Low', 'Close', 'Adj Close']\n"
          ]
        }
      ]
    },
    {
      "cell_type": "code",
      "source": [
        "#New dataframe with only training data - 5 columns\n",
        "df_for_training = df[cols].astype(float)"
      ],
      "metadata": {
        "id": "oypKvUqdJJRr"
      },
      "execution_count": 53,
      "outputs": []
    },
    {
      "cell_type": "code",
      "source": [
        "#LSTM uses sigmoid and tanh that are sensitive to magnitude so values need to be normalized\n",
        "# normalize the dataset\n",
        "scaler = StandardScaler()\n",
        "scaler = scaler.fit(df_for_training)\n",
        "df_for_training_scaled = scaler.transform(df_for_training)"
      ],
      "metadata": {
        "id": "GqP1Q3TSJO16"
      },
      "execution_count": 54,
      "outputs": []
    },
    {
      "cell_type": "code",
      "source": [
        "#Empty lists to be populated using formatted training data\n",
        "trainX = []\n",
        "trainY = []"
      ],
      "metadata": {
        "id": "UsM_omSYJRVf"
      },
      "execution_count": 55,
      "outputs": []
    },
    {
      "cell_type": "code",
      "source": [
        "n_future = 1   # Number of days we want to look into the future based on the past days.\n",
        "n_past = 14  # Number of past days we want to use to predict the future."
      ],
      "metadata": {
        "id": "Nf1Q46XRJUhf"
      },
      "execution_count": 56,
      "outputs": []
    },
    {
      "cell_type": "code",
      "source": [
        "#Reformat input data into a shape: (n_samples x timesteps x n_features)\n",
        "#In my example, my df_for_training_scaled has a shape (12823, 5)\n",
        "#12823 refers to the number of data points and 5 refers to the columns (multi-variables).\n",
        "for i in range(n_past, len(df_for_training_scaled) - n_future +1):\n",
        "    trainX.append(df_for_training_scaled[i - n_past:i, 0:df_for_training.shape[1]])\n",
        "    trainY.append(df_for_training_scaled[i + n_future - 1:i + n_future, 0])\n",
        "\n",
        "trainX, trainY = np.array(trainX), np.array(trainY)"
      ],
      "metadata": {
        "id": "MjlyRYyMJXkK"
      },
      "execution_count": 57,
      "outputs": []
    },
    {
      "cell_type": "code",
      "source": [
        "print('trainX shape == {}.'.format(trainX.shape))\n",
        "print('trainY shape == {}.'.format(trainY.shape))"
      ],
      "metadata": {
        "colab": {
          "base_uri": "https://localhost:8080/"
        },
        "id": "k5HBSUGnJbL4",
        "outputId": "bde1dae6-b647-45a9-e587-ccd2964ba82c"
      },
      "execution_count": 58,
      "outputs": [
        {
          "output_type": "stream",
          "name": "stdout",
          "text": [
            "trainX shape == (237, 14, 5).\n",
            "trainY shape == (237, 1).\n"
          ]
        }
      ]
    },
    {
      "cell_type": "code",
      "source": [
        "\n",
        "# define the Autoencoder model\n",
        "\n",
        "model = Sequential()\n",
        "model.add(LSTM(64, activation='relu', input_shape=(trainX.shape[1], trainX.shape[2]), return_sequences=True))\n",
        "model.add(LSTM(32, activation='relu', return_sequences=False))\n",
        "model.add(Dropout(0.2))\n",
        "model.add(Dense(trainY.shape[1]))\n",
        "\n",
        "model.compile(optimizer='adam', loss='mse')\n",
        "model.summary()\n"
      ],
      "metadata": {
        "colab": {
          "base_uri": "https://localhost:8080/"
        },
        "id": "GkuuSfYCJeDb",
        "outputId": "a0924f1c-e2e3-44b8-f670-11059942733c"
      },
      "execution_count": 59,
      "outputs": [
        {
          "output_type": "stream",
          "name": "stdout",
          "text": [
            "Model: \"sequential_2\"\n",
            "_________________________________________________________________\n",
            " Layer (type)                Output Shape              Param #   \n",
            "=================================================================\n",
            " lstm_4 (LSTM)               (None, 14, 64)            17920     \n",
            "                                                                 \n",
            " lstm_5 (LSTM)               (None, 32)                12416     \n",
            "                                                                 \n",
            " dropout_2 (Dropout)         (None, 32)                0         \n",
            "                                                                 \n",
            " dense_2 (Dense)             (None, 1)                 33        \n",
            "                                                                 \n",
            "=================================================================\n",
            "Total params: 30369 (118.63 KB)\n",
            "Trainable params: 30369 (118.63 KB)\n",
            "Non-trainable params: 0 (0.00 Byte)\n",
            "_________________________________________________________________\n"
          ]
        }
      ]
    },
    {
      "cell_type": "code",
      "source": [
        "# fit the model\n",
        "history = model.fit(trainX, trainY, epochs=5, batch_size=16, validation_split=0.1, verbose=1)"
      ],
      "metadata": {
        "colab": {
          "base_uri": "https://localhost:8080/"
        },
        "id": "jm5aTPvFJivi",
        "outputId": "e7cc2d2c-5594-4f9d-c84c-91bee8bb4707"
      },
      "execution_count": 60,
      "outputs": [
        {
          "output_type": "stream",
          "name": "stdout",
          "text": [
            "Epoch 1/5\n",
            "14/14 [==============================] - 5s 72ms/step - loss: 0.4639 - val_loss: 0.5134\n",
            "Epoch 2/5\n",
            "14/14 [==============================] - 0s 29ms/step - loss: 0.1172 - val_loss: 0.3192\n",
            "Epoch 3/5\n",
            "14/14 [==============================] - 0s 27ms/step - loss: 0.0743 - val_loss: 0.0127\n",
            "Epoch 4/5\n",
            "14/14 [==============================] - 0s 26ms/step - loss: 0.0536 - val_loss: 0.0733\n",
            "Epoch 5/5\n",
            "14/14 [==============================] - 0s 27ms/step - loss: 0.0432 - val_loss: 0.0119\n"
          ]
        }
      ]
    },
    {
      "cell_type": "code",
      "source": [
        "plt.plot(history.history['loss'], label='Training loss')\n",
        "plt.plot(history.history['val_loss'], label='Validation loss')\n",
        "plt.legend()"
      ],
      "metadata": {
        "colab": {
          "base_uri": "https://localhost:8080/",
          "height": 447
        },
        "id": "A7WfVwrTJmHP",
        "outputId": "946a0115-4b04-420e-cf5e-3cbbae79a4ac"
      },
      "execution_count": 61,
      "outputs": [
        {
          "output_type": "execute_result",
          "data": {
            "text/plain": [
              "<matplotlib.legend.Legend at 0x7e42133cf0d0>"
            ]
          },
          "metadata": {},
          "execution_count": 61
        },
        {
          "output_type": "display_data",
          "data": {
            "text/plain": [
              "<Figure size 640x480 with 1 Axes>"
            ],
            "image/png": "[encoded data removed]"
          },
          "metadata": {}
        }
      ]
    },
    {
      "cell_type": "code",
      "source": [
        "#Predicting...\n",
        "#Libraries that will help us extract only business days in the US.\n",
        "#Otherwise our dates would be wrong when we look back (or forward).\n",
        "from pandas.tseries.holiday import USFederalHolidayCalendar\n",
        "from pandas.tseries.offsets import CustomBusinessDay\n",
        "us_bd = CustomBusinessDay(calendar=USFederalHolidayCalendar())\n",
        "#Remember that we can only predict one day in future as our model needs 5 variables\n",
        "#as inputs for prediction. We only have all 5 variables until the last day in our dataset.\n",
        "n_past = 16\n",
        "n_days_for_prediction=15  #let us predict past 15 days"
      ],
      "metadata": {
        "id": "h3E4NolpJpIp"
      },
      "execution_count": 62,
      "outputs": []
    },
    {
      "cell_type": "code",
      "source": [
        "predict_period_dates = pd.date_range(list(train_dates)[-n_past], periods=n_days_for_prediction, freq=us_bd).tolist()\n",
        "print(predict_period_dates)"
      ],
      "metadata": {
        "colab": {
          "base_uri": "https://localhost:8080/"
        },
        "id": "vjNNQoy4JueH",
        "outputId": "1dd23d40-28ed-4938-edfa-0d18deb0f309"
      },
      "execution_count": 63,
      "outputs": [
        {
          "output_type": "stream",
          "name": "stdout",
          "text": [
            "[Timestamp('2023-09-15 00:00:00', freq='C'), Timestamp('2023-09-18 00:00:00', freq='C'), Timestamp('2023-09-19 00:00:00', freq='C'), Timestamp('2023-09-20 00:00:00', freq='C'), Timestamp('2023-09-21 00:00:00', freq='C'), Timestamp('2023-09-22 00:00:00', freq='C'), Timestamp('2023-09-25 00:00:00', freq='C'), Timestamp('2023-09-26 00:00:00', freq='C'), Timestamp('2023-09-27 00:00:00', freq='C'), Timestamp('2023-09-28 00:00:00', freq='C'), Timestamp('2023-09-29 00:00:00', freq='C'), Timestamp('2023-10-02 00:00:00', freq='C'), Timestamp('2023-10-03 00:00:00', freq='C'), Timestamp('2023-10-04 00:00:00', freq='C'), Timestamp('2023-10-05 00:00:00', freq='C')]\n"
          ]
        }
      ]
    },
    {
      "cell_type": "code",
      "source": [
        "#Make prediction\n",
        "prediction = model.predict(trainX[-n_days_for_prediction:]) #shape = (n, 1) where n is the n_days_for_prediction"
      ],
      "metadata": {
        "colab": {
          "base_uri": "https://localhost:8080/"
        },
        "id": "-dhCXDSvJxun",
        "outputId": "71d807ae-c10b-4934-d741-b3ad826be362"
      },
      "execution_count": 64,
      "outputs": [
        {
          "output_type": "stream",
          "name": "stdout",
          "text": [
            "1/1 [==============================] - 0s 305ms/step\n"
          ]
        }
      ]
    },
    {
      "cell_type": "code",
      "source": [
        "#Perform inverse transformation to rescale back to original range\n",
        "#Since we used 5 variables for transform, the inverse expects same dimensions\n",
        "#Therefore, let us copy our values 5 times and discard them after inverse transform\n",
        "prediction_copies = np.repeat(prediction, df_for_training.shape[1], axis=-1)\n",
        "y_pred_future = scaler.inverse_transform(prediction_copies)[:,0]"
      ],
      "metadata": {
        "id": "uQJlucJaJz9B"
      },
      "execution_count": 65,
      "outputs": []
    },
    {
      "cell_type": "code",
      "source": [
        "# Convert timestamp to date\n",
        "forecast_dates = []\n",
        "for time_i in predict_period_dates:\n",
        "    forecast_dates.append(time_i.date())\n",
        "\n",
        "df_forecast = pd.DataFrame({'Date':np.array(forecast_dates), 'Open':y_pred_future})\n",
        "df_forecast['Date']=pd.to_datetime(df_forecast['Date'])"
      ],
      "metadata": {
        "id": "sQPKHNThJ3E1"
      },
      "execution_count": 66,
      "outputs": []
    },
    {
      "cell_type": "code",
      "source": [
        "original = df[['Date', 'Open']]\n",
        "original['Date']=pd.to_datetime(original['Date'])\n",
        "original = original.loc[original['Date'] >= '2020-5-1']"
      ],
      "metadata": {
        "colab": {
          "base_uri": "https://localhost:8080/"
        },
        "id": "i3QsCW1IJ7Oq",
        "outputId": "8ca62259-d98b-4dc7-ff91-a0dd7e18480e"
      },
      "execution_count": 71,
      "outputs": [
        {
          "output_type": "stream",
          "name": "stderr",
          "text": [
            "<ipython-input-71-023fd395994a>:2: SettingWithCopyWarning: \n",
            "A value is trying to be set on a copy of a slice from a DataFrame.\n",
            "Try using .loc[row_indexer,col_indexer] = value instead\n",
            "\n",
            "See the caveats in the documentation: https://pandas.pydata.org/pandas-docs/stable/user_guide/indexing.html#returning-a-view-versus-a-copy\n",
            "  original['Date']=pd.to_datetime(original['Date'])\n"
          ]
        }
      ]
    },
    {
      "cell_type": "code",
      "source": [
        "original['Date']"
      ],
      "metadata": {
        "colab": {
          "base_uri": "https://localhost:8080/"
        },
        "id": "dpH9AobZPDoW",
        "outputId": "3e506280-e0f2-4ac3-dcb5-7491c144d15f"
      },
      "execution_count": 72,
      "outputs": [
        {
          "output_type": "execute_result",
          "data": {
            "text/plain": [
              "0     2022-10-07\n",
              "1     2022-10-10\n",
              "2     2022-10-11\n",
              "3     2022-10-12\n",
              "4     2022-10-13\n",
              "         ...    \n",
              "246   2023-10-02\n",
              "247   2023-10-03\n",
              "248   2023-10-04\n",
              "249   2023-10-05\n",
              "250   2023-10-06\n",
              "Name: Date, Length: 251, dtype: datetime64[ns]"
            ]
          },
          "metadata": {},
          "execution_count": 72
        }
      ]
    },
    {
      "cell_type": "code",
      "source": [
        "# # Assuming you have a DataFrame named 'df'\n",
        "\n",
        "# original = df[['Date', 'Open']]\n",
        "# original['Date'] = pd.to_datetime(original['Date'])\n",
        "# original1 = original.loc[original['Date'] >= '2020-05-01']\n",
        "\n",
        "# # Now, if you want to assign a value to the 'Date' column, use .loc like this:\n",
        "# original1.loc[original['Date'] >= '2020-05-01', 'Date'] = '2023-10-07'"
      ],
      "metadata": {
        "colab": {
          "base_uri": "https://localhost:8080/"
        },
        "id": "42vyBBP2K00g",
        "outputId": "be2372a9-cf20-4916-8baa-4ecf8f489906"
      },
      "execution_count": 70,
      "outputs": [
        {
          "output_type": "stream",
          "name": "stderr",
          "text": [
            "<ipython-input-70-afa274871359>:4: SettingWithCopyWarning: \n",
            "A value is trying to be set on a copy of a slice from a DataFrame.\n",
            "Try using .loc[row_indexer,col_indexer] = value instead\n",
            "\n",
            "See the caveats in the documentation: https://pandas.pydata.org/pandas-docs/stable/user_guide/indexing.html#returning-a-view-versus-a-copy\n",
            "  original['Date'] = pd.to_datetime(original['Date'])\n"
          ]
        }
      ]
    },
    {
      "cell_type": "code",
      "source": [
        "sns.lineplot(data=original, x='Date', y='Open', label='Original Data')\n",
        "\n",
        "# Create line plots for 'df_forecast' DataFrame\n",
        "sns.lineplot(data=df_forecast, x='Date', y='Open', label='Forecast Data')"
      ],
      "metadata": {
        "colab": {
          "base_uri": "https://localhost:8080/",
          "height": 469
        },
        "id": "25fpQvHLPnki",
        "outputId": "260546b8-f179-4037-f42f-ac3641584f76"
      },
      "execution_count": 73,
      "outputs": [
        {
          "output_type": "execute_result",
          "data": {
            "text/plain": [
              "<Axes: xlabel='Date', ylabel='Open'>"
            ]
          },
          "metadata": {},
          "execution_count": 73
        },
        {
          "output_type": "display_data",
          "data": {
            "text/plain": [
              "<Figure size 640x480 with 1 Axes>"
            ],
            "image/png": "[encoded data removed]"
          },
          "metadata": {}
        }
      ]
    },
    {
      "cell_type": "code",
      "source": [],
      "metadata": {
        "id": "IDE1Y_wsKQcs"
      },
      "execution_count": null,
      "outputs": []
    }
  ]
}